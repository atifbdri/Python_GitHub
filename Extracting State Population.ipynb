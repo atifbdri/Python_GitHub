{
 "cells": [
  {
   "cell_type": "code",
   "execution_count": 2,
   "id": "96d067ed",
   "metadata": {},
   "outputs": [
    {
     "name": "stdout",
     "output_type": "stream",
     "text": [
      "Enter the name of the state: Johor\n",
      "Population of Johor: 3794000\n"
     ]
    }
   ],
   "source": [
    "import requests\n",
    "\n",
    "api_url = \"https://jian.sh/malaysia-api/state/v1/all.json\"\n",
    "response = requests.get(api_url)\n",
    "malaysia_state_data = response.json()\n",
    "state_name = input(\"Enter the name of the state: \")\n",
    "\n",
    "found = False\n",
    "\n",
    "for state in malaysia_state_data:\n",
    "    if state_name == state[\"state\"]:\n",
    "        print(\"Population of \" + state_name + \": \" + str(state[\"population\"]))\n",
    "        found = True\n",
    "        break\n",
    "\n",
    "if not found:\n",
    "    print(state_name + \" is not found in the data.\")"
   ]
  },
  {
   "cell_type": "code",
   "execution_count": null,
   "id": "3407c950",
   "metadata": {},
   "outputs": [],
   "source": []
  }
 ],
 "metadata": {
  "kernelspec": {
   "display_name": "Python 3 (ipykernel)",
   "language": "python",
   "name": "python3"
  },
  "language_info": {
   "codemirror_mode": {
    "name": "ipython",
    "version": 3
   },
   "file_extension": ".py",
   "mimetype": "text/x-python",
   "name": "python",
   "nbconvert_exporter": "python",
   "pygments_lexer": "ipython3",
   "version": "3.11.5"
  }
 },
 "nbformat": 4,
 "nbformat_minor": 5
}
