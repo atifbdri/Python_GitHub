{
 "cells": [
  {
   "cell_type": "code",
   "execution_count": 10,
   "id": "226bb1ce",
   "metadata": {},
   "outputs": [],
   "source": [
    "import csv \n",
    "\n",
    "def filter_students (input_file, output_file):\n",
    "    with open(input_file, 'r', newline='') as file:\n",
    "        csv_reader = csv.DictReader(file)\n",
    "        \n",
    "        filtered_students = []\n",
    "        for row in csv_reader:\n",
    "            if row['Grade'] in ['A', 'B']:\n",
    "                row['Status']= 'Passed'\n",
    "                filtered_students.append(row)\n",
    "        \n",
    "    if filtered_students:\n",
    "        with open(output_file, 'w', newline='') as file:\n",
    "            writer = csv.DictWriter(file, fieldnames=filtered_students[0].keys())\n",
    "            writer.writeheader()\n",
    "            writer.writerows(filtered_students)\n",
    "            \n",
    "filter_students('students.csv', 'top_students.csv')"
   ]
  },
  {
   "cell_type": "code",
   "execution_count": null,
   "id": "8e0fb726",
   "metadata": {},
   "outputs": [],
   "source": []
  }
 ],
 "metadata": {
  "kernelspec": {
   "display_name": "Python 3 (ipykernel)",
   "language": "python",
   "name": "python3"
  },
  "language_info": {
   "codemirror_mode": {
    "name": "ipython",
    "version": 3
   },
   "file_extension": ".py",
   "mimetype": "text/x-python",
   "name": "python",
   "nbconvert_exporter": "python",
   "pygments_lexer": "ipython3",
   "version": "3.11.5"
  }
 },
 "nbformat": 4,
 "nbformat_minor": 5
}
